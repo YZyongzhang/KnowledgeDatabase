{
 "cells": [
  {
   "cell_type": "code",
   "execution_count": 10,
   "id": "dbf03336",
   "metadata": {},
   "outputs": [
    {
     "data": {
      "text/plain": [
       "'you'"
      ]
     },
     "execution_count": 10,
     "metadata": {},
     "output_type": "execute_result"
    }
   ],
   "source": [
    "from enum import Enum\n",
    "class eee(Enum):\n",
    "    i = \"a\"\n",
    "    you = \"你\"\n",
    "eee(\"你\").name"
   ]
  },
  {
   "cell_type": "code",
   "execution_count": 8,
   "id": "d15aa190",
   "metadata": {},
   "outputs": [],
   "source": [
    "import yaml\n",
    "a = {\n",
    "    \"测试\":\"sdfasdf\",\n",
    "    \"sfasf\":\"sdfaf\",\n",
    "    \"sadfsaf\":{\n",
    "        \"afdasfas\":\"dfsafasf\",\n",
    "        \"sdfsdffsfsdf\":{\n",
    "            \"dfasfsf\":\"dfsfs\",\n",
    "            \"sdfsfdsf\":\"sfdsfdsf\"\n",
    "        }\n",
    "    }\n",
    "}\n",
    "with open(\"./tt.yaml\",\"a\",encoding='utf-8') as f:\n",
    "    yaml.dump(a , f,allow_unicode=True,sort_keys=False)"
   ]
  },
  {
   "cell_type": "code",
   "execution_count": null,
   "id": "03f5e986",
   "metadata": {},
   "outputs": [],
   "source": []
  }
 ],
 "metadata": {
  "kernelspec": {
   "display_name": "kkk",
   "language": "python",
   "name": "python3"
  },
  "language_info": {
   "codemirror_mode": {
    "name": "ipython",
    "version": 3
   },
   "file_extension": ".py",
   "mimetype": "text/x-python",
   "name": "python",
   "nbconvert_exporter": "python",
   "pygments_lexer": "ipython3",
   "version": "-1.-1.-1"
  }
 },
 "nbformat": 4,
 "nbformat_minor": 5
}
