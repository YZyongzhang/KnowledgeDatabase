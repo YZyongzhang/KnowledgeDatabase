{
 "cells": [
  {
   "cell_type": "code",
   "execution_count": null,
   "id": "8c5936f0",
   "metadata": {},
   "outputs": [],
   "source": [
    "import yaml\n",
    "path = './.yaml'\n",
    "with open(path , 'rb') as f:\n",
    "    tec = yaml.load(f , Loader=yaml.FullLoader)"
   ]
  },
  {
   "cell_type": "code",
   "execution_count": 3,
   "id": "f5f7d1fe",
   "metadata": {},
   "outputs": [
    {
     "data": {
      "text/plain": [
       "dict_keys(['路径', 'pip', 'argparse', '术语'])"
      ]
     },
     "execution_count": 3,
     "metadata": {},
     "output_type": "execute_result"
    }
   ],
   "source": [
    "tec.keys()"
   ]
  },
  {
   "cell_type": "code",
   "execution_count": 4,
   "id": "905869a8",
   "metadata": {},
   "outputs": [
    {
     "data": {
      "text/plain": [
       "['使用sys模块，然后使用sys.path.append()将路径导入', '使用os.path.dirname 返回不带本文件的文件目录']"
      ]
     },
     "execution_count": 4,
     "metadata": {},
     "output_type": "execute_result"
    }
   ],
   "source": [
    "tec['路径']"
   ]
  },
  {
   "cell_type": "code",
   "execution_count": 9,
   "id": "ea26b24d",
   "metadata": {},
   "outputs": [
    {
     "data": {
      "text/plain": [
       "'缺少一些必要参数'"
      ]
     },
     "execution_count": 9,
     "metadata": {},
     "output_type": "execute_result"
    }
   ],
   "source": [
    "tec['argparse'][1]['ipynb']['报错']"
   ]
  },
  {
   "cell_type": "code",
   "execution_count": null,
   "id": "9a717eda",
   "metadata": {},
   "outputs": [],
   "source": []
  }
 ],
 "metadata": {
  "kernelspec": {
   "display_name": "tongsim",
   "language": "python",
   "name": "python3"
  },
  "language_info": {
   "codemirror_mode": {
    "name": "ipython",
    "version": 3
   },
   "file_extension": ".py",
   "mimetype": "text/x-python",
   "name": "python",
   "nbconvert_exporter": "python",
   "pygments_lexer": "ipython3",
   "version": "3.10.0"
  }
 },
 "nbformat": 4,
 "nbformat_minor": 5
}
